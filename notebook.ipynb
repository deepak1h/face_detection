{
 "cells": [
  {
   "cell_type": "code",
   "execution_count": 20,
   "id": "984ee659",
   "metadata": {},
   "outputs": [],
   "source": [
    "import cv2"
   ]
  },
  {
   "cell_type": "code",
   "execution_count": 21,
   "id": "b384f2ee",
   "metadata": {},
   "outputs": [],
   "source": [
    "face = cv2.CascadeClassifier(\"haarcascade_frontalface_default.xml\")\n",
    "eye = cv2.CascadeClassifier('haarcascade_eye.xml')  "
   ]
  },
  {
   "cell_type": "code",
   "execution_count": 22,
   "id": "8c4f5cf8",
   "metadata": {},
   "outputs": [],
   "source": [
    "# capture from a camera \n",
    "cap = cv2.VideoCapture(0)\n",
    "while True:\n",
    "    ret, frame = cap.read()\n",
    "    if ret:\n",
    "        gray = cv2.cvtColor(frame, cv2.COLOR_BGR2GRAY)\n",
    "\n",
    "    # Check if the frame was successfully captured\n",
    "    if not ret:\n",
    "        break\n",
    "        \n",
    "    faces = face.detectMultiScale(\n",
    "        gray,\n",
    "        scaleFactor=1.1,\n",
    "        minNeighbors=5,\n",
    "        minSize=(35, 35)\n",
    "    )\n",
    "    \n",
    "    for (x, y, w, h) in faces:\n",
    "        cv2.rectangle(frame, (x, y), (x+w, y+h), (50, 50, 200), 2)\n",
    "\n",
    "    cv2.imshow('output detection', frame)\n",
    "\n",
    "    if cv2.waitKey(1) & 0xFF == ord('q'):\n",
    "        break\n",
    "\n",
    "cap.release()\n",
    "cv2.destroyAllWindows()"
   ]
  },
  {
   "cell_type": "code",
   "execution_count": 25,
   "id": "58e56766",
   "metadata": {},
   "outputs": [],
   "source": [
    "# capture from a camera \n",
    "cap = cv2.VideoCapture(0)\n",
    "while True:  \n",
    "    ret, frame = cap.read()  \n",
    "    if ret:\n",
    "        gray = cv2.cvtColor(frame, cv2.COLOR_BGR2GRAY)\n",
    "        \n",
    "        # Check if the frame was successfully captured\n",
    "    if not ret:\n",
    "        break\n",
    "  \n",
    "    faces = face.detectMultiScale(\n",
    "        gray,\n",
    "        scaleFactor=1.1,\n",
    "        minNeighbors=5,\n",
    "        minSize=(35, 35)\n",
    "    )\n",
    "  \n",
    "    for (x,y,w,h) in faces:  \n",
    "        cv2.rectangle(frame,(x,y),(x+w,y+h),(255,255,0),2)  \n",
    "        rec_eye = gray[y:y+h, x:x+w] \n",
    "        col_eye = frame[y:y+h, x:x+w] \n",
    "  \n",
    "        # Detects eyes of different sizes\n",
    "        eyes = eye.detectMultiScale(rec_eye)  \n",
    "  \n",
    "        #draw rectangle\n",
    "        for (ex,ey,ew,eh) in eyes: \n",
    "            cv2.rectangle(col_eye,(ex,ey),(ex+ew,ey+eh),(0,127,255),2) \n",
    "  \n",
    "    # Display an image in a window \n",
    "    cv2.imshow('eye detection',frame) \n",
    "  \n",
    "    if cv2.waitKey(1) & 0xFF == ord('q'):\n",
    "        break\n",
    "\n",
    "cap.release()\n",
    "cv2.destroyAllWindows()\n"
   ]
  },
  {
   "cell_type": "code",
   "execution_count": 10,
   "id": "634e6f75",
   "metadata": {},
   "outputs": [],
   "source": []
  },
  {
   "cell_type": "code",
   "execution_count": null,
   "id": "6c64656d",
   "metadata": {},
   "outputs": [],
   "source": []
  }
 ],
 "metadata": {
  "kernelspec": {
   "display_name": "Python 3 (ipykernel)",
   "language": "python",
   "name": "python3"
  },
  "language_info": {
   "codemirror_mode": {
    "name": "ipython",
    "version": 3
   },
   "file_extension": ".py",
   "mimetype": "text/x-python",
   "name": "python",
   "nbconvert_exporter": "python",
   "pygments_lexer": "ipython3",
   "version": "3.8.18"
  }
 },
 "nbformat": 4,
 "nbformat_minor": 5
}
